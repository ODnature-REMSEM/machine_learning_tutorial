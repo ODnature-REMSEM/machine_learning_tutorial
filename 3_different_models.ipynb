{
 "cells": [
  {
   "cell_type": "markdown",
   "metadata": {},
   "source": [
    "# Applying different model types\n",
    "The previous two notebooks used linear models, which are as simple as they get. However, in most situations, linear models will not give the best performance. These are usually surpassed by models such as support vector machines, and tree based models such as LightGBM.\n",
    "\n",
    "As sklearn-compatible models usually have similar named funtions, it is straightforward to compare them and to plug in the model that best suits your case."
   ]
  },
  {
   "cell_type": "code",
   "execution_count": 6,
   "metadata": {},
   "outputs": [],
   "source": [
    "import pandas as pd\n",
    "from sklearn.model_selection import train_test_split\n",
    "from sklearn.metrics import mean_squared_error\n",
    "import matplotlib.pyplot as plt"
   ]
  },
  {
   "cell_type": "code",
   "execution_count": 3,
   "metadata": {},
   "outputs": [],
   "source": [
    "df = pd.read_csv('data/chl_regression_tutorial.csv')\n",
    "df_train, df_test = train_test_split(df, test_size=0.2, random_state=42)\n",
    "\n",
    "features = ['rho_443_a', 'rho_492_a', 'rho_560_a', 'rho_665_a', 'rho_704_a', 'rho_740_a', 'rho_783_a', 'rho_865_a']\n",
    "target = 'CHL'\n",
    "\n",
    "X_train = df_train[features]\n",
    "y_train = df_train[target]\n",
    "\n",
    "X_test = df_test[features]\n",
    "y_test = df_test[target]"
   ]
  },
  {
   "cell_type": "code",
   "execution_count": 9,
   "metadata": {},
   "outputs": [
    {
     "data": {
      "image/png": "[encoded data removed]",
      "text/plain": [
       "<Figure size 640x480 with 1 Axes>"
      ]
     },
     "metadata": {},
     "output_type": "display_data"
    }
   ],
   "source": [
    "# Import models such as support vector machines, lightgbm, random forest, etc.\n",
    "from sklearn.linear_model import LinearRegression\n",
    "from sklearn.svm import SVR\n",
    "from lightgbm import LGBMRegressor\n",
    "from sklearn.ensemble import RandomForestRegressor\n",
    "\n",
    "# Initialize models\n",
    "lr = LinearRegression()\n",
    "svr = SVR()\n",
    "lgbm = LGBMRegressor(verbose=-1)\n",
    "rf = RandomForestRegressor()\n",
    "\n",
    "model_dict = {'lr': lr, 'svr': svr, 'lgbm': lgbm, 'rf': rf}\n",
    "model_scores = {}\n",
    "\n",
    "for model_name, model in model_dict.items():\n",
    "    model.fit(X_train, y_train)\n",
    "    y_pred = model.predict(X_test)\n",
    "    mse = mean_squared_error(y_test, y_pred)\n",
    "    model_scores[model_name] = mse\n",
    "\n",
    "# bar chart of model scores\n",
    "\n",
    "plt.bar(model_scores.keys(), model_scores.values())\n",
    "plt.ylabel('RMSE')\n",
    "# show the values on top of the bars\n",
    "for i, v in enumerate(model_scores.values()):\n",
    "    plt.text(i, v + 0.01, str(round(v, 2)), ha='center')\n",
    "plt.show()\n",
    "\n"
   ]
  }
 ],
 "metadata": {
  "kernelspec": {
   "display_name": "machine_learning_tutorial",
   "language": "python",
   "name": "python3"
  },
  "language_info": {
   "codemirror_mode": {
    "name": "ipython",
    "version": 3
   },
   "file_extension": ".py",
   "mimetype": "text/x-python",
   "name": "python",
   "nbconvert_exporter": "python",
   "pygments_lexer": "ipython3",
   "version": "3.10.15"
  }
 },
 "nbformat": 4,
 "nbformat_minor": 2
}
