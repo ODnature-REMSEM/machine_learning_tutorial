{
 "cells": [
  {
   "cell_type": "markdown",
   "metadata": {},
   "source": [
    "# Model export\n",
    "\n",
    "In the previous notebooks, methods are explored to improve the results of your model. Once you are done, you might want to use your model in a different place."
   ]
  },
  {
   "cell_type": "code",
   "execution_count": 10,
   "metadata": {},
   "outputs": [],
   "source": [
    "import pandas as pd\n",
    "from sklearn.model_selection import train_test_split\n",
    "from sklearn.metrics import mean_squared_error\n",
    "import lightgbm as lgb\n",
    "import joblib\n",
    "import json"
   ]
  },
  {
   "cell_type": "code",
   "execution_count": 3,
   "metadata": {},
   "outputs": [],
   "source": [
    "df = pd.read_csv('data/chl_regression_tutorial.csv')\n",
    "df_train, df_test = train_test_split(df, test_size=0.2, random_state=42)\n",
    "\n",
    "features = ['rho_443_a', 'rho_492_a', 'rho_560_a', 'rho_665_a', 'rho_704_a', 'rho_740_a', 'rho_783_a', 'rho_865_a']\n",
    "target = 'CHL'\n",
    "\n",
    "X_train = df_train[features]\n",
    "y_train = df_train[target]\n",
    "\n",
    "X_test = df_test[features]\n",
    "y_test = df_test[target]"
   ]
  },
  {
   "cell_type": "markdown",
   "metadata": {},
   "source": [
    "Saving an sklearn model is usually done using the `joblib` package, which allows you to save your model with one line of code. It is also considered good practice to export metadata along your model, for example in a json file, which can include information such as the features used to train the model.\n",
    "\n",
    "Exporting the feature order used in the training, allows the person importing the model to use the correct feature set when applying the model in practice."
   ]
  },
  {
   "cell_type": "code",
   "execution_count": 12,
   "metadata": {},
   "outputs": [],
   "source": [
    "model = lgb.LGBMRegressor(verbose=-1)\n",
    "model.fit(X_train, y_train)\n",
    "\n",
    "joblib.dump(model, 'models/regression_model.joblib')\n",
    "with open('models/regression_features.json', \"w\", encoding=\"utf-8\") as f:\n",
    "    json.dump(features, f)"
   ]
  },
  {
   "cell_type": "markdown",
   "metadata": {},
   "source": [
    "The model can then be loaded in using `joblib.load`, allowing it to be applied to other data."
   ]
  },
  {
   "cell_type": "code",
   "execution_count": 13,
   "metadata": {},
   "outputs": [
    {
     "name": "stdout",
     "output_type": "stream",
     "text": [
      "MSE: 3.090875641325473\n"
     ]
    }
   ],
   "source": [
    "model = joblib.load('models/regression_model.joblib')\n",
    "with open('models/regression_features.json', \"r\", encoding=\"utf-8\") as f:\n",
    "    features = json.load(f)\n",
    "\n",
    "X_test = X_test[features]\n",
    "y_pred = model.predict(X_test)\n",
    "mse = mean_squared_error(y_test, y_pred)\n",
    "print(f'MSE: {mse}')"
   ]
  },
  {
   "cell_type": "markdown",
   "metadata": {},
   "source": [
    "One thing to be wary of, is exporting your model to a different python environment and / or a different version of sklearn. To deal with this, a model is often hosted on a different server, instead of copying the model file, but this requires significant infrastructural setup."
   ]
  }
 ],
 "metadata": {
  "kernelspec": {
   "display_name": "machine_learning_tutorial",
   "language": "python",
   "name": "python3"
  },
  "language_info": {
   "codemirror_mode": {
    "name": "ipython",
    "version": 3
   },
   "file_extension": ".py",
   "mimetype": "text/x-python",
   "name": "python",
   "nbconvert_exporter": "python",
   "pygments_lexer": "ipython3",
   "version": "3.10.15"
  }
 },
 "nbformat": 4,
 "nbformat_minor": 2
}
